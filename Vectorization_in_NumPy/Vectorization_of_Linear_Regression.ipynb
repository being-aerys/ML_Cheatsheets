{
 "cells": [
  {
   "cell_type": "markdown",
   "metadata": {},
   "source": [
    "# Vectorization of Linear Regression\n",
    "This notebook illustrates how to perform vectorization of common calculations encountered in linear regression using NumPy."
   ]
  },
  {
   "cell_type": "code",
   "execution_count": 18,
   "metadata": {},
   "outputs": [],
   "source": [
    "import numpy as np"
   ]
  },
  {
   "cell_type": "markdown",
   "metadata": {},
   "source": [
    "#### Training Dataset and Labels"
   ]
  },
  {
   "cell_type": "markdown",
   "metadata": {},
   "source": [
    "Assume there are ten samples in the training set and each sample has 3 features."
   ]
  },
  {
   "cell_type": "code",
   "execution_count": 19,
   "metadata": {},
   "outputs": [
    {
     "data": {
      "text/plain": [
       "array([[0.37454012, 0.95071431, 0.73199394],\n",
       "       [0.59865848, 0.15601864, 0.15599452],\n",
       "       [0.05808361, 0.86617615, 0.60111501],\n",
       "       [0.70807258, 0.02058449, 0.96990985],\n",
       "       [0.83244264, 0.21233911, 0.18182497],\n",
       "       [0.18340451, 0.30424224, 0.52475643],\n",
       "       [0.43194502, 0.29122914, 0.61185289],\n",
       "       [0.13949386, 0.29214465, 0.36636184],\n",
       "       [0.45606998, 0.78517596, 0.19967378],\n",
       "       [0.51423444, 0.59241457, 0.04645041]])"
      ]
     },
     "execution_count": 19,
     "metadata": {},
     "output_type": "execute_result"
    }
   ],
   "source": [
    "np.random.seed(42)\n",
    "\n",
    "X_transpose = np.random.rand(10,3) # Named X_transpose assumining X has each sample as a column.\n",
    "X_transpose"
   ]
  },
  {
   "cell_type": "markdown",
   "metadata": {},
   "source": [
    "Add a dummy feature for the bias term."
   ]
  },
  {
   "cell_type": "code",
   "execution_count": 20,
   "metadata": {},
   "outputs": [
    {
     "data": {
      "text/plain": [
       "array([1., 1., 1., 1., 1., 1., 1., 1., 1., 1.])"
      ]
     },
     "execution_count": 20,
     "metadata": {},
     "output_type": "execute_result"
    }
   ],
   "source": [
    "feature_for_bias = np.ones(len(X_transpose))\n",
    "feature_for_bias"
   ]
  },
  {
   "cell_type": "code",
   "execution_count": 21,
   "metadata": {},
   "outputs": [
    {
     "data": {
      "text/plain": [
       "array([[1.        , 0.37454012, 0.95071431, 0.73199394],\n",
       "       [1.        , 0.59865848, 0.15601864, 0.15599452],\n",
       "       [1.        , 0.05808361, 0.86617615, 0.60111501],\n",
       "       [1.        , 0.70807258, 0.02058449, 0.96990985],\n",
       "       [1.        , 0.83244264, 0.21233911, 0.18182497],\n",
       "       [1.        , 0.18340451, 0.30424224, 0.52475643],\n",
       "       [1.        , 0.43194502, 0.29122914, 0.61185289],\n",
       "       [1.        , 0.13949386, 0.29214465, 0.36636184],\n",
       "       [1.        , 0.45606998, 0.78517596, 0.19967378],\n",
       "       [1.        , 0.51423444, 0.59241457, 0.04645041]])"
      ]
     },
     "execution_count": 21,
     "metadata": {},
     "output_type": "execute_result"
    }
   ],
   "source": [
    "features = np.column_stack((feature_for_bias, X_transpose))\n",
    "features"
   ]
  },
  {
   "cell_type": "code",
   "execution_count": 22,
   "metadata": {},
   "outputs": [
    {
     "data": {
      "text/plain": [
       "array([16.07544852, 11.70524124, 10.65051593, 19.48885537, 19.65632033,\n",
       "       18.08397348, 13.04613769, 10.97672114, 16.84233027, 14.40152494])"
      ]
     },
     "execution_count": 22,
     "metadata": {},
     "output_type": "execute_result"
    }
   ],
   "source": [
    "targets = 10 + (np.random.rand(10) * 10)\n",
    "targets"
   ]
  },
  {
   "cell_type": "code",
   "execution_count": 23,
   "metadata": {},
   "outputs": [
    {
     "data": {
      "text/plain": [
       "array([0.12203823, 0.49517691, 0.03438852, 0.9093204 ])"
      ]
     },
     "execution_count": 23,
     "metadata": {},
     "output_type": "execute_result"
    }
   ],
   "source": [
    "weights_transpose = np.random.rand(len(features[0]))\n",
    "weights_transpose"
   ]
  },
  {
   "cell_type": "markdown",
   "metadata": {},
   "source": [
    "# Linear Regression"
   ]
  },
  {
   "cell_type": "markdown",
   "metadata": {},
   "source": [
    "## W <sup>T</sup> X (or equivalently X<sup>T</sup>W) "
   ]
  },
  {
   "cell_type": "markdown",
   "metadata": {},
   "source": [
    "#### In Stochastic Gradient Descent ( use a single sample)"
   ]
  },
  {
   "cell_type": "code",
   "execution_count": 24,
   "metadata": {},
   "outputs": [
    {
     "data": {
      "text/plain": [
       "1.0058125380960208"
      ]
     },
     "execution_count": 24,
     "metadata": {},
     "output_type": "execute_result"
    }
   ],
   "source": [
    "single_sample = features[0]\n",
    "\n",
    "w_T_X = weights_transpose.dot(single_sample)\n",
    "w_T_X"
   ]
  },
  {
   "cell_type": "code",
   "execution_count": 25,
   "metadata": {},
   "outputs": [
    {
     "data": {
      "text/plain": [
       "1.0058125380960208"
      ]
     },
     "execution_count": 25,
     "metadata": {},
     "output_type": "execute_result"
    }
   ],
   "source": [
    "X_T_w = single_sample.T.dot(weights_transpose.T)\n",
    "X_T_w"
   ]
  },
  {
   "cell_type": "markdown",
   "metadata": {},
   "source": [
    "#### In minibatch gradient descent (using multiple samples)"
   ]
  },
  {
   "cell_type": "code",
   "execution_count": 26,
   "metadata": {},
   "outputs": [
    {
     "data": {
      "text/plain": [
       "array([1.00581254, 0.56569434, 0.72719256, 1.35532611, 0.70688379,\n",
       "       0.70049008, 0.90231269, 0.53429909, 0.55644204, 0.43928582])"
      ]
     },
     "execution_count": 26,
     "metadata": {},
     "output_type": "execute_result"
    }
   ],
   "source": [
    "w_T_X = (weights_transpose).dot(features.T)\n",
    "w_T_X"
   ]
  },
  {
   "cell_type": "code",
   "execution_count": 27,
   "metadata": {},
   "outputs": [
    {
     "data": {
      "text/plain": [
       "array([1.00581254, 0.56569434, 0.72719256, 1.35532611, 0.70688379,\n",
       "       0.70049008, 0.90231269, 0.53429909, 0.55644204, 0.43928582])"
      ]
     },
     "execution_count": 27,
     "metadata": {},
     "output_type": "execute_result"
    }
   ],
   "source": [
    "X_T_w = (features).dot(weights_transpose.T)\n",
    "X_T_w"
   ]
  },
  {
   "cell_type": "markdown",
   "metadata": {},
   "source": [
    "## Error"
   ]
  },
  {
   "cell_type": "markdown",
   "metadata": {},
   "source": [
    "## W<sup>T</sup>X - Y<sup>T</sup> (or equivalently X<sup>T</sup>W - Y) "
   ]
  },
  {
   "cell_type": "code",
   "execution_count": 28,
   "metadata": {},
   "outputs": [
    {
     "data": {
      "text/plain": [
       "array([-15.06963598, -11.13954689,  -9.92332337, -18.13352926,\n",
       "       -18.94943654, -17.3834834 , -12.143825  , -10.44242205,\n",
       "       -16.28588822, -13.96223911])"
      ]
     },
     "execution_count": 28,
     "metadata": {},
     "output_type": "execute_result"
    }
   ],
   "source": [
    "X_T_w - targets"
   ]
  },
  {
   "cell_type": "markdown",
   "metadata": {},
   "source": [
    "## Mean Squared Error"
   ]
  },
  {
   "cell_type": "markdown",
   "metadata": {},
   "source": [
    "### MSE = $\\frac{1}{2}$  $\\sum_{i}$ (w<sup>T</sup>x<sup>(i)</sup> - y<sup>(i)</sup>)<sup>2</sup> = $\\frac{1}{2}$ (w <sup>T</sup> X) . (w<sup>T</sup>X) = $\\frac{1}{2}$ (X<sup>T</sup>w) . (X<sup>T</sup>w)"
   ]
  },
  {
   "cell_type": "code",
   "execution_count": 29,
   "metadata": {},
   "outputs": [
    {
     "data": {
      "text/plain": [
       "1078.2191219484507"
      ]
     },
     "execution_count": 29,
     "metadata": {},
     "output_type": "execute_result"
    }
   ],
   "source": [
    "MSE = (1/2) * (X_T_w - targets).dot(X_T_w - targets)\n",
    "MSE"
   ]
  },
  {
   "cell_type": "markdown",
   "metadata": {},
   "source": [
    "## Gradient\n",
    "We know that the gradient of the MSE error wrt the model weights w is"
   ]
  },
  {
   "cell_type": "markdown",
   "metadata": {},
   "source": [
    "## $\\frac{\\partial E}{\\partial w}$ = $ \\begin{bmatrix} \\frac{\\partial E}{\\partial w _{0}}\\\\ \\frac{\\partial E}{\\partial w _{1}} \\\\ \\frac{\\partial E}{\\partial w _{2}} \\end{bmatrix}$"
   ]
  },
  {
   "cell_type": "markdown",
   "metadata": {},
   "source": [
    "Also, we know each component in the gradient is"
   ]
  },
  {
   "cell_type": "markdown",
   "metadata": {},
   "source": [
    "## $\\frac{\\partial E}{\\partial w _{0}}$ =  $\\sum_{i} $ (w<sup>T</sup> x <sup>(i)</sup>  - Y<sup>(i)</sup>)  . x <sup>(i)</sup> <sub>0</sub>\n",
    "\n"
   ]
  },
  {
   "cell_type": "markdown",
   "metadata": {},
   "source": [
    "#### Product within summation can be rewritten in vector and matrix notations as:"
   ]
  },
  {
   "cell_type": "markdown",
   "metadata": {},
   "source": [
    "###  $\\frac{\\partial E}{\\partial w _{0}}$ =  $ \\begin{bmatrix} w^{T}x^{(1)} - Y^{(1)} &&  w^{T}x^{(2)} - Y^{(2)} && w^{T}x^{(3)}- Y^{(3)}\\end{bmatrix}$ . $ \\begin{bmatrix} x^{(0)}_{0} \\\\  x^{(1)}_{0} \\\\ x^{(2)}_{0}\\end{bmatrix}$ "
   ]
  },
  {
   "cell_type": "markdown",
   "metadata": {},
   "source": [
    "## $\\frac{\\partial E}{\\partial w _{1}}$ =  $\\sum_{i} $ (w<sup>T</sup> x <sup>(i)</sup>  - Y<sup>(i)</sup>)  . x <sup>(i)</sup> <sub>1</sub>\n",
    "\n",
    "## $\\frac{\\partial E}{\\partial w _{2}}$ =  $\\sum_{i} $ (w<sup>T</sup> x <sup>(i)</sup>  - Y<sup>(i)</sup>)  . x <sup>(i)</sup> <sub>2</sub>"
   ]
  },
  {
   "cell_type": "markdown",
   "metadata": {},
   "source": [
    "#### Also, notice that each component  $\\frac{\\partial E}{\\partial w _{j}}$ has the following vector common."
   ]
  },
  {
   "cell_type": "markdown",
   "metadata": {},
   "source": [
    "## $\\sum_{i} $ (w<sup>T</sup> x <sup>(i)</sup>  - Y<sup>(i)</sup>)"
   ]
  },
  {
   "cell_type": "markdown",
   "metadata": {},
   "source": [
    "### Hence, $\\frac{\\partial E}{\\partial w}$ can be rewritten in vector notations as"
   ]
  },
  {
   "cell_type": "markdown",
   "metadata": {},
   "source": [
    "###  $\\frac{\\partial E}{\\partial w }$ =  $ \\begin{bmatrix} w^{T}x^{(1)} - Y^{(1)} &&  w^{T}x^{(2)} - Y^{(2)} && w^{T}x^{(3)}- Y^{(3)}\\end{bmatrix}$ . $ \\begin{bmatrix} x^{(0)}_{0} & x^{(0)}_{1} & x^{(0)}_{2} \\\\  x^{(1)}_{0} & x^{(1)}_{1} & x^{(1)}_{2}\\\\ x^{(2)}_{0} & x^{(2)}_{1} & x^{(2)}_{2}\\end{bmatrix}$ "
   ]
  },
  {
   "cell_type": "markdown",
   "metadata": {},
   "source": [
    "## $\\frac{\\partial E}{\\partial w}$ = (W<sup>T</sup>X - Y) . X<sup>T</sup>"
   ]
  },
  {
   "cell_type": "code",
   "execution_count": 30,
   "metadata": {},
   "outputs": [
    {
     "data": {
      "text/plain": [
       "array([-143.43332982,  -66.00122048,  -61.99206272,  -64.04546937])"
      ]
     },
     "execution_count": 30,
     "metadata": {},
     "output_type": "execute_result"
    }
   ],
   "source": [
    "dE_by_dw = (w_T_X - targets).dot(features)\n",
    "dE_by_dw"
   ]
  },
  {
   "cell_type": "markdown",
   "metadata": {},
   "source": [
    "## Gradient Update"
   ]
  },
  {
   "cell_type": "code",
   "execution_count": 33,
   "metadata": {},
   "outputs": [
    {
     "name": "stdout",
     "output_type": "stream",
     "text": [
      "Weights before gradient update:  [0.12203823 0.49517691 0.03438852 0.9093204 ]\n"
     ]
    }
   ],
   "source": [
    "print(\"Weights before gradient update: \", weights_transpose)"
   ]
  },
  {
   "cell_type": "code",
   "execution_count": 34,
   "metadata": {},
   "outputs": [
    {
     "name": "stdout",
     "output_type": "stream",
     "text": [
      "Weights after gradient update:  [0.13638157 0.50177703 0.04058773 0.91572495]\n"
     ]
    }
   ],
   "source": [
    "lr = 0.0001\n",
    "weights_transpose = weights_transpose - lr * dE_by_dw\n",
    "print(\"Weights after gradient update: \", weights_transpose)"
   ]
  },
  {
   "cell_type": "code",
   "execution_count": null,
   "metadata": {},
   "outputs": [],
   "source": []
  }
 ],
 "metadata": {
  "kernelspec": {
   "display_name": "Python 3",
   "language": "python",
   "name": "python3"
  },
  "language_info": {
   "codemirror_mode": {
    "name": "ipython",
    "version": 3
   },
   "file_extension": ".py",
   "mimetype": "text/x-python",
   "name": "python",
   "nbconvert_exporter": "python",
   "pygments_lexer": "ipython3",
   "version": "3.6.8"
  }
 },
 "nbformat": 4,
 "nbformat_minor": 2
}
